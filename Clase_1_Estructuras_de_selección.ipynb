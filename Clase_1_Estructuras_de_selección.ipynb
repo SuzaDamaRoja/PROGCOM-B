{
  "nbformat": 4,
  "nbformat_minor": 0,
  "metadata": {
    "colab": {
      "provenance": [],
      "authorship_tag": "ABX9TyO6ZLhRtlkRxyN+iehkc/gk",
      "include_colab_link": true
    },
    "kernelspec": {
      "name": "python3",
      "display_name": "Python 3"
    },
    "language_info": {
      "name": "python"
    }
  },
  "cells": [
    {
      "cell_type": "markdown",
      "metadata": {
        "id": "view-in-github",
        "colab_type": "text"
      },
      "source": [
        "<a href=\"https://colab.research.google.com/github/SuzaDamaRoja/PROGCOM-B/blob/main/Clase_1_Estructuras_de_selecci%C3%B3n.ipynb\" target=\"_parent\"><img src=\"https://colab.research.google.com/assets/colab-badge.svg\" alt=\"Open In Colab\"/></a>"
      ]
    },
    {
      "cell_type": "markdown",
      "source": [
        "#Estructuras de selección\n",
        "Se emplean cuando quiero evaluar una condición. El resultado de la evaluación de esta condición siempre se da en Booleano (V o F)."
      ],
      "metadata": {
        "id": "2IHgW4pvLUIZ"
      }
    },
    {
      "cell_type": "markdown",
      "source": [
        "##Estructura if-else\n",
        "\n",
        "\n",
        "```\n",
        "if (condición):\n",
        "  entro aquí, si la condición dio V\n",
        "else:\n",
        "  entro aquí, si la condición = F\n",
        "```\n",
        "\n"
      ],
      "metadata": {
        "id": "0XBXxgGhK7wh"
      }
    },
    {
      "cell_type": "markdown",
      "source": [
        "7. Año bisiesto"
      ],
      "metadata": {
        "id": "QzXZ7cT7MTt4"
      }
    },
    {
      "cell_type": "code",
      "execution_count": 2,
      "metadata": {
        "colab": {
          "base_uri": "https://localhost:8080/"
        },
        "id": "yIPNHu0LKfso",
        "outputId": "717362b9-72a1-4ea6-fc32-1a1872c9996d"
      },
      "outputs": [
        {
          "output_type": "stream",
          "name": "stdout",
          "text": [
            "Introduzca un año: 2007\n",
            "2007 NO es un año bisiesto\n"
          ]
        }
      ],
      "source": [
        "#1. Es divisible entre 4\n",
        "#2. Es divisible entre 400 pero no entre 100\n",
        "año=int(input(\"Introduzca un año: \"))\n",
        "if (año%4==0 and año%100!=0):\n",
        "  print(f\"{año} es un año bisiesto\")\n",
        "else:\n",
        "  if año%400==0:\n",
        "    print(f\"{año} es un año bisiesto\")\n",
        "  else:\n",
        "    print(f\"{año} NO es un año bisiesto\")"
      ]
    },
    {
      "cell_type": "markdown",
      "source": [
        "##Etructura de decisión múltiple if-elif-else\n",
        "Se emplea cuando hay más de una decisión\n",
        "\n",
        "\n",
        "```\n",
        "if (cond1):\n",
        "  si cond1 es verdadero, entro aquí\n",
        "elif (cond2):\n",
        "  si cond1 es falso, PERO cond2 es verdadero, entro aquí\n",
        "elif (cond3):\n",
        "  si cond1 y cond2 son falso, PERO con3 es verdadero, entro aquí\n",
        "else: si cond1 y cond2 y cond3 y cond n son falsas, entrará aquí\n",
        "```\n",
        "\n"
      ],
      "metadata": {
        "id": "gW19-TDcOv3h"
      }
    },
    {
      "cell_type": "code",
      "source": [
        "if (año%4==0 and año%100!=0): print(f\"{año} es un año bisiesto\")\n",
        "elif año%400==0: print(f\"{año} es un año bisiesto\")\n",
        "else:print(f\"{año} NO es un año bisiesto\")"
      ],
      "metadata": {
        "id": "YDaU_RWrP4KC"
      },
      "execution_count": null,
      "outputs": []
    },
    {
      "cell_type": "markdown",
      "source": [
        "##Operador terniario\n",
        "Programar una estructura de selección en una sola línea de código\n",
        "\n",
        "\n",
        "```\n",
        "(Lo que se debe ejecutar, si la condición es verdadera) if (condición) else (lo que se debe ejecutar, si la condición es falsa)\n",
        "```\n",
        "\n"
      ],
      "metadata": {
        "id": "CMOiZI1hU9sP"
      }
    },
    {
      "cell_type": "code",
      "source": [
        "print(f\"{año} es un año bisiesto\") if (año%4==0 and año%100!=0) else (print(f\"{año} es un año bisiesto\") if año%400==0 else print(f\"{año} NO es un año bisiesto\"))"
      ],
      "metadata": {
        "colab": {
          "base_uri": "https://localhost:8080/"
        },
        "id": "G7r_YQOKXmo7",
        "outputId": "7429f3e3-3c26-40a4-c280-876398404785"
      },
      "execution_count": 3,
      "outputs": [
        {
          "output_type": "stream",
          "name": "stdout",
          "text": [
            "2007 NO es un año bisiesto\n"
          ]
        }
      ]
    },
    {
      "cell_type": "code",
      "source": [
        "a=f\"{año} es un año bisiesto\" if (año%4==0 and año%100!=0) else b\n",
        "b=f\"{año} es un año bisiesto\" if año%400==0 else f\"{año} NO es un año bisiesto\"\n",
        "print(a)"
      ],
      "metadata": {
        "id": "4m55LuLrYaA_"
      },
      "execution_count": null,
      "outputs": []
    }
  ]
}