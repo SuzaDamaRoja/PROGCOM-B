{
  "nbformat": 4,
  "nbformat_minor": 0,
  "metadata": {
    "colab": {
      "provenance": [],
      "authorship_tag": "ABX9TyOfZnt+xEOmUUXT0dCseQk9",
      "include_colab_link": true
    },
    "kernelspec": {
      "name": "python3",
      "display_name": "Python 3"
    },
    "language_info": {
      "name": "python"
    }
  },
  "cells": [
    {
      "cell_type": "markdown",
      "metadata": {
        "id": "view-in-github",
        "colab_type": "text"
      },
      "source": [
        "<a href=\"https://colab.research.google.com/github/SuzaDamaRoja/PROGCOM-B/blob/main/Clase_2_Estructuras_de_repetici%C3%B3n.ipynb\" target=\"_parent\"><img src=\"https://colab.research.google.com/assets/colab-badge.svg\" alt=\"Open In Colab\"/></a>"
      ]
    },
    {
      "cell_type": "markdown",
      "source": [
        "#Estructuras de repetición\n",
        "Se emplean cuando se desea repetir una parte del código, dada una condición"
      ],
      "metadata": {
        "id": "6PrDlQhSlR3n"
      }
    },
    {
      "cell_type": "markdown",
      "source": [
        "##Listas\n",
        "* Son un conjunto de tipo de datos, **indexado**, separado por comas, y encerrado entre [].\n",
        "* Todos los elementos dentro de una lista, se empiezan a contar desde 0.\n",
        "###Creación de listas\n",
        "* Forma general: lista=[]\n",
        "* Forma manual: animales=[\"gato\",\"perro\",zorro,\"oso\"]\n",
        "* Por conversión: número=list(range(10))"
      ],
      "metadata": {
        "id": "OqX0kGb0v1mo"
      }
    },
    {
      "cell_type": "code",
      "source": [
        "lista=[]"
      ],
      "metadata": {
        "id": "INGUFkAPw8ID"
      },
      "execution_count": 1,
      "outputs": []
    },
    {
      "cell_type": "code",
      "source": [
        "type(lista)"
      ],
      "metadata": {
        "colab": {
          "base_uri": "https://localhost:8080/"
        },
        "id": "z3OysHFqw_bH",
        "outputId": "4f8c6cff-6c2e-4350-eab0-b9f8eeef64f7"
      },
      "execution_count": 2,
      "outputs": [
        {
          "output_type": "execute_result",
          "data": {
            "text/plain": [
              "list"
            ]
          },
          "metadata": {},
          "execution_count": 2
        }
      ]
    },
    {
      "cell_type": "code",
      "source": [
        "zorro=(1,2,3,4)\n",
        "animales=[\"gato\",\"perro\",zorro,\"oso\"]\n",
        "animales"
      ],
      "metadata": {
        "colab": {
          "base_uri": "https://localhost:8080/"
        },
        "id": "WspgIUlSxkqT",
        "outputId": "1e794f79-2ea4-42ec-cb8d-4e503d0ebfd0"
      },
      "execution_count": 4,
      "outputs": [
        {
          "output_type": "execute_result",
          "data": {
            "text/plain": [
              "['gato', 'perro', (1, 2, 3, 4), 'oso']"
            ]
          },
          "metadata": {},
          "execution_count": 4
        }
      ]
    },
    {
      "cell_type": "code",
      "source": [
        "type(zorro)"
      ],
      "metadata": {
        "colab": {
          "base_uri": "https://localhost:8080/"
        },
        "id": "fE2m3pchx241",
        "outputId": "024d9b25-5347-4b36-a2f4-43ac9d291986"
      },
      "execution_count": 5,
      "outputs": [
        {
          "output_type": "execute_result",
          "data": {
            "text/plain": [
              "tuple"
            ]
          },
          "metadata": {},
          "execution_count": 5
        }
      ]
    },
    {
      "cell_type": "code",
      "source": [
        "número=list(range(10))\n",
        "número"
      ],
      "metadata": {
        "colab": {
          "base_uri": "https://localhost:8080/"
        },
        "id": "vlt4RqtVy23a",
        "outputId": "d796c72f-613a-4646-c7ae-98f4486c4497"
      },
      "execution_count": 7,
      "outputs": [
        {
          "output_type": "execute_result",
          "data": {
            "text/plain": [
              "[0, 1, 2, 3, 4, 5, 6, 7, 8, 9]"
            ]
          },
          "metadata": {},
          "execution_count": 7
        }
      ]
    },
    {
      "cell_type": "code",
      "source": [
        "range(10)"
      ],
      "metadata": {
        "colab": {
          "base_uri": "https://localhost:8080/"
        },
        "id": "0jvGcT9Uy_bK",
        "outputId": "08349264-554d-4637-82ed-1520a45feb7e"
      },
      "execution_count": 6,
      "outputs": [
        {
          "output_type": "execute_result",
          "data": {
            "text/plain": [
              "range(0, 10)"
            ]
          },
          "metadata": {},
          "execution_count": 6
        }
      ]
    },
    {
      "cell_type": "markdown",
      "source": [
        "##Estructura para - for\n",
        "\n",
        "Se usa cuando\n",
        "*   Se sabe **cuántas veces** se repite una acción.\n",
        "* Está compuesta por un contador y una condición.\n",
        "* **Contador**: Identifica cuántas vece se va a repetir el bucle y con qué frecuencia.\n",
        "* **Condición**: Evalúa cuándo se detiene.\n",
        "\n",
        "Por definición:\n",
        "```\n",
        "for variable in range(vi, vf+1, paso):\n",
        "  aquí se repite parte del código.\n",
        "```\n",
        "Donde\n",
        "1. vi: Condición inicial. Dónde arranco a contar.\n",
        "2. vf+1: Condicion final. Dónde dejo de contar+1\n",
        "3. paso: Frecuencia de conteo\n",
        "\n",
        "for para recorrido de listas\n",
        "flor=[\"amapola\",\"rosa\",\"tulipán\",\"orquídea\"]\n",
        "* El para va a iterar tantas veces como elementos tenga la lista\n",
        "* la variable dentro del para, toma como valor, cada elemento de la lista\n",
        "```\n",
        "for variable in lista:\n",
        "  variable\n",
        "```\n"
      ],
      "metadata": {
        "id": "B6FTa2G0lcP4"
      }
    },
    {
      "cell_type": "code",
      "execution_count": 14,
      "metadata": {
        "colab": {
          "base_uri": "https://localhost:8080/"
        },
        "id": "SSzYLI83lBio",
        "outputId": "84bf4709-5b18-4db0-e9f7-471b68654d0b"
      },
      "outputs": [
        {
          "output_type": "stream",
          "name": "stdout",
          "text": [
            "amapola\n",
            "rosa\n",
            "tulipán\n"
          ]
        }
      ],
      "source": [
        "#Creando una lista de nombre flor\n",
        "flor=[\"amapola\",\"rosa\",\"tulipán\",\"orquídea\"]\n",
        "flores=5\n",
        "for flores in flor:\n",
        "  print(flores)\n",
        "  if flores==\"tulipán\":\n",
        "    break"
      ]
    },
    {
      "cell_type": "markdown",
      "source": [
        "##Estructura while\n",
        "* Se emplea cuando **NO SE SABE** cuántas veces se debe repetir una acción, pero si se conoce su condición de parada (CP).\n",
        "* Condición inicial: Dónde arranca el ciclo\n",
        "* Condición final (parada): Que indica dónde se detiene el ciclo\n",
        "* Modificador de condición inicial\n",
        "\n",
        "Estructura general del mientras\n",
        "\n",
        "\n",
        "```\n",
        "Condición inicial\n",
        "while (condicion==condición final):\n",
        "  modificador de condición inicial\n",
        "```\n",
        "Modificadores de condición inicial\n",
        "* Banderas: son booleanos\n",
        "* Son preguntas\n",
        "* Son contadores o acumuladores\n",
        "\n"
      ],
      "metadata": {
        "id": "ptFjXw7_1nd6"
      }
    }
  ]
}