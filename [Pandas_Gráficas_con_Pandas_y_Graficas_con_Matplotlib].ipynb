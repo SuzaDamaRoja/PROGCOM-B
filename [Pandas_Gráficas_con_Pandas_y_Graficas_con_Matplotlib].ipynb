{
  "cells": [
    {
      "cell_type": "markdown",
      "metadata": {
        "id": "view-in-github",
        "colab_type": "text"
      },
      "source": [
        "<a href=\"https://colab.research.google.com/github/SuzaDamaRoja/PROGCOM-B/blob/main/%5BPandas_Gr%C3%A1ficas_con_Pandas_y_Graficas_con_Matplotlib%5D.ipynb\" target=\"_parent\"><img src=\"https://colab.research.google.com/assets/colab-badge.svg\" alt=\"Open In Colab\"/></a>"
      ]
    },
    {
      "cell_type": "code",
      "execution_count": null,
      "metadata": {
        "id": "HVtxtuzzU5cx"
      },
      "outputs": [],
      "source": [
        "import numpy as np\n",
        "import pandas as pd"
      ]
    },
    {
      "cell_type": "code",
      "execution_count": null,
      "metadata": {
        "id": "hFUVTocsXfhj"
      },
      "outputs": [],
      "source": [
        "#Fila de tasas de muertes por covid en diferentes paises.\n",
        "covid=pd.DataFrame({\"Tasa de Muertes\":[300.5,280.2,117.2,38.25,320.6]},\n",
        "                   index=[\"Colombia\", \"Brasil\", \"EEUU\", \"India\", \"Alemania\"])"
      ]
    },
    {
      "cell_type": "code",
      "execution_count": null,
      "metadata": {
        "colab": {
          "base_uri": "https://localhost:8080/"
        },
        "id": "D-e6UU5qZDAe",
        "outputId": "a9273828-2ea1-4aa7-aab8-95bc1ebda488"
      },
      "outputs": [
        {
          "output_type": "stream",
          "name": "stdout",
          "text": [
            "          Tasa de Muertes\n",
            "Colombia           300.50\n",
            "Brasil             280.20\n",
            "EEUU               117.20\n",
            "India               38.25\n",
            "Alemania           320.60\n"
          ]
        }
      ],
      "source": [
        "#Como es el Data Frame ?\n",
        "print(covid)"
      ]
    },
    {
      "cell_type": "code",
      "execution_count": null,
      "metadata": {
        "colab": {
          "base_uri": "https://localhost:8080/",
          "height": 204
        },
        "id": "QLxnJ0hAZb7N",
        "outputId": "9f1b1741-f44e-440c-9cc1-429ac7d65509"
      },
      "outputs": [
        {
          "output_type": "execute_result",
          "data": {
            "text/plain": [
              "pandas.core.frame.DataFrame"
            ],
            "text/html": [
              "<div style=\"max-width:800px; border: 1px solid var(--colab-border-color);\"><style>\n",
              "      pre.function-repr-contents {\n",
              "        overflow-x: auto;\n",
              "        padding: 8px 12px;\n",
              "        max-height: 500px;\n",
              "      }\n",
              "\n",
              "      pre.function-repr-contents.function-repr-contents-collapsed {\n",
              "        cursor: pointer;\n",
              "        max-height: 100px;\n",
              "      }\n",
              "    </style>\n",
              "    <pre style=\"white-space: initial; background:\n",
              "         var(--colab-secondary-surface-color); padding: 8px 12px;\n",
              "         border-bottom: 1px solid var(--colab-border-color);\"><b>pandas.core.frame.DataFrame</b><br/>def __init__(data=None, index: Axes | None=None, columns: Axes | None=None, dtype: Dtype | None=None, copy: bool | None=None) -&gt; None</pre><pre class=\"function-repr-contents function-repr-contents-collapsed\" style=\"\"><a class=\"filepath\" style=\"display:none\" href=\"#\">/usr/local/lib/python3.11/dist-packages/pandas/core/frame.py</a>Two-dimensional, size-mutable, potentially heterogeneous tabular data.\n",
              "\n",
              "Data structure also contains labeled axes (rows and columns).\n",
              "Arithmetic operations align on both row and column labels. Can be\n",
              "thought of as a dict-like container for Series objects. The primary\n",
              "pandas data structure.\n",
              "\n",
              "Parameters\n",
              "----------\n",
              "data : ndarray (structured or homogeneous), Iterable, dict, or DataFrame\n",
              "    Dict can contain Series, arrays, constants, dataclass or list-like objects. If\n",
              "    data is a dict, column order follows insertion-order. If a dict contains Series\n",
              "    which have an index defined, it is aligned by its index. This alignment also\n",
              "    occurs if data is a Series or a DataFrame itself. Alignment is done on\n",
              "    Series/DataFrame inputs.\n",
              "\n",
              "    If data is a list of dicts, column order follows insertion-order.\n",
              "\n",
              "index : Index or array-like\n",
              "    Index to use for resulting frame. Will default to RangeIndex if\n",
              "    no indexing information part of input data and no index provided.\n",
              "columns : Index or array-like\n",
              "    Column labels to use for resulting frame when data does not have them,\n",
              "    defaulting to RangeIndex(0, 1, 2, ..., n). If data contains column labels,\n",
              "    will perform column selection instead.\n",
              "dtype : dtype, default None\n",
              "    Data type to force. Only a single dtype is allowed. If None, infer.\n",
              "copy : bool or None, default None\n",
              "    Copy data from inputs.\n",
              "    For dict data, the default of None behaves like ``copy=True``.  For DataFrame\n",
              "    or 2d ndarray input, the default of None behaves like ``copy=False``.\n",
              "    If data is a dict containing one or more Series (possibly of different dtypes),\n",
              "    ``copy=False`` will ensure that these inputs are not copied.\n",
              "\n",
              "    .. versionchanged:: 1.3.0\n",
              "\n",
              "See Also\n",
              "--------\n",
              "DataFrame.from_records : Constructor from tuples, also record arrays.\n",
              "DataFrame.from_dict : From dicts of Series, arrays, or dicts.\n",
              "read_csv : Read a comma-separated values (csv) file into DataFrame.\n",
              "read_table : Read general delimited file into DataFrame.\n",
              "read_clipboard : Read text from clipboard into DataFrame.\n",
              "\n",
              "Notes\n",
              "-----\n",
              "Please reference the :ref:`User Guide &lt;basics.dataframe&gt;` for more information.\n",
              "\n",
              "Examples\n",
              "--------\n",
              "Constructing DataFrame from a dictionary.\n",
              "\n",
              "&gt;&gt;&gt; d = {&#x27;col1&#x27;: [1, 2], &#x27;col2&#x27;: [3, 4]}\n",
              "&gt;&gt;&gt; df = pd.DataFrame(data=d)\n",
              "&gt;&gt;&gt; df\n",
              "   col1  col2\n",
              "0     1     3\n",
              "1     2     4\n",
              "\n",
              "Notice that the inferred dtype is int64.\n",
              "\n",
              "&gt;&gt;&gt; df.dtypes\n",
              "col1    int64\n",
              "col2    int64\n",
              "dtype: object\n",
              "\n",
              "To enforce a single dtype:\n",
              "\n",
              "&gt;&gt;&gt; df = pd.DataFrame(data=d, dtype=np.int8)\n",
              "&gt;&gt;&gt; df.dtypes\n",
              "col1    int8\n",
              "col2    int8\n",
              "dtype: object\n",
              "\n",
              "Constructing DataFrame from a dictionary including Series:\n",
              "\n",
              "&gt;&gt;&gt; d = {&#x27;col1&#x27;: [0, 1, 2, 3], &#x27;col2&#x27;: pd.Series([2, 3], index=[2, 3])}\n",
              "&gt;&gt;&gt; pd.DataFrame(data=d, index=[0, 1, 2, 3])\n",
              "   col1  col2\n",
              "0     0   NaN\n",
              "1     1   NaN\n",
              "2     2   2.0\n",
              "3     3   3.0\n",
              "\n",
              "Constructing DataFrame from numpy ndarray:\n",
              "\n",
              "&gt;&gt;&gt; df2 = pd.DataFrame(np.array([[1, 2, 3], [4, 5, 6], [7, 8, 9]]),\n",
              "...                    columns=[&#x27;a&#x27;, &#x27;b&#x27;, &#x27;c&#x27;])\n",
              "&gt;&gt;&gt; df2\n",
              "   a  b  c\n",
              "0  1  2  3\n",
              "1  4  5  6\n",
              "2  7  8  9\n",
              "\n",
              "Constructing DataFrame from a numpy ndarray that has labeled columns:\n",
              "\n",
              "&gt;&gt;&gt; data = np.array([(1, 2, 3), (4, 5, 6), (7, 8, 9)],\n",
              "...                 dtype=[(&quot;a&quot;, &quot;i4&quot;), (&quot;b&quot;, &quot;i4&quot;), (&quot;c&quot;, &quot;i4&quot;)])\n",
              "&gt;&gt;&gt; df3 = pd.DataFrame(data, columns=[&#x27;c&#x27;, &#x27;a&#x27;])\n",
              "...\n",
              "&gt;&gt;&gt; df3\n",
              "   c  a\n",
              "0  3  1\n",
              "1  6  4\n",
              "2  9  7\n",
              "\n",
              "Constructing DataFrame from dataclass:\n",
              "\n",
              "&gt;&gt;&gt; from dataclasses import make_dataclass\n",
              "&gt;&gt;&gt; Point = make_dataclass(&quot;Point&quot;, [(&quot;x&quot;, int), (&quot;y&quot;, int)])\n",
              "&gt;&gt;&gt; pd.DataFrame([Point(0, 0), Point(0, 3), Point(2, 3)])\n",
              "   x  y\n",
              "0  0  0\n",
              "1  0  3\n",
              "2  2  3\n",
              "\n",
              "Constructing DataFrame from Series/DataFrame:\n",
              "\n",
              "&gt;&gt;&gt; ser = pd.Series([1, 2, 3], index=[&quot;a&quot;, &quot;b&quot;, &quot;c&quot;])\n",
              "&gt;&gt;&gt; df = pd.DataFrame(data=ser, index=[&quot;a&quot;, &quot;c&quot;])\n",
              "&gt;&gt;&gt; df\n",
              "   0\n",
              "a  1\n",
              "c  3\n",
              "\n",
              "&gt;&gt;&gt; df1 = pd.DataFrame([1, 2, 3], index=[&quot;a&quot;, &quot;b&quot;, &quot;c&quot;], columns=[&quot;x&quot;])\n",
              "&gt;&gt;&gt; df2 = pd.DataFrame(data=df1, index=[&quot;a&quot;, &quot;c&quot;])\n",
              "&gt;&gt;&gt; df2\n",
              "   x\n",
              "a  1\n",
              "c  3</pre>\n",
              "      <script>\n",
              "      if (google.colab.kernel.accessAllowed && google.colab.files && google.colab.files.view) {\n",
              "        for (const element of document.querySelectorAll('.filepath')) {\n",
              "          element.style.display = 'block'\n",
              "          element.onclick = (event) => {\n",
              "            event.preventDefault();\n",
              "            event.stopPropagation();\n",
              "            google.colab.files.view(element.textContent, 509);\n",
              "          };\n",
              "        }\n",
              "      }\n",
              "      for (const element of document.querySelectorAll('.function-repr-contents')) {\n",
              "        element.onclick = (event) => {\n",
              "          event.preventDefault();\n",
              "          event.stopPropagation();\n",
              "          element.classList.toggle('function-repr-contents-collapsed');\n",
              "        };\n",
              "      }\n",
              "      </script>\n",
              "      </div>"
            ]
          },
          "metadata": {},
          "execution_count": 4
        }
      ],
      "source": [
        "#Que es? (Reconocer que tipo de dato es)\n",
        "type(covid)"
      ]
    },
    {
      "cell_type": "code",
      "execution_count": null,
      "metadata": {
        "id": "WaLnMJpMaP1S"
      },
      "outputs": [],
      "source": [
        "calificaciones=pd.DataFrame({\"Calculo\":[4.3, 4, 5, 3.7, 2.8],\n",
        "                             \"Algebra\":[5, 3.9, 2.7, 4.7, 4.2],\n",
        "                             \"Ciencia de datos\":[4, 4.3, 4.6, 3.9, 4.6]},\n",
        "                             index=[1,2,3,4,5])"
      ]
    },
    {
      "cell_type": "code",
      "execution_count": null,
      "metadata": {
        "id": "kivI0TNwdMNM",
        "outputId": "21463f2d-8658-49ab-b92d-d98d76cc5a35",
        "colab": {
          "base_uri": "https://localhost:8080/",
          "height": 321
        }
      },
      "outputs": [
        {
          "output_type": "error",
          "ename": "FileNotFoundError",
          "evalue": "[Errno 2] No such file or directory: '/content/drive/MyDrive/Colab Notebooks/[DATASET]/prestamo (1).csv'",
          "traceback": [
            "\u001b[0;31m---------------------------------------------------------------------------\u001b[0m",
            "\u001b[0;31mFileNotFoundError\u001b[0m                         Traceback (most recent call last)",
            "\u001b[0;32m<ipython-input-6-843fde180ee4>\u001b[0m in \u001b[0;36m<cell line: 0>\u001b[0;34m()\u001b[0m\n\u001b[1;32m      1\u001b[0m \u001b[0;31m#Cargar un archivo desde el computador(sistema)\u001b[0m\u001b[0;34m\u001b[0m\u001b[0;34m\u001b[0m\u001b[0m\n\u001b[1;32m      2\u001b[0m \u001b[0;31m#https://raw.githubusercontent.com/adiacla/bigdata/master/bank.csv\u001b[0m\u001b[0;34m\u001b[0m\u001b[0;34m\u001b[0m\u001b[0m\n\u001b[0;32m----> 3\u001b[0;31m \u001b[0mprestamo\u001b[0m\u001b[0;34m=\u001b[0m\u001b[0mpd\u001b[0m\u001b[0;34m.\u001b[0m\u001b[0mread_csv\u001b[0m\u001b[0;34m(\u001b[0m\u001b[0;34m\"/content/drive/MyDrive/Colab Notebooks/[DATASET]/prestamo (1).csv\"\u001b[0m\u001b[0;34m,\u001b[0m\u001b[0msep\u001b[0m\u001b[0;34m=\u001b[0m\u001b[0;34m\";\"\u001b[0m\u001b[0;34m)\u001b[0m\u001b[0;34m\u001b[0m\u001b[0;34m\u001b[0m\u001b[0m\n\u001b[0m",
            "\u001b[0;32m/usr/local/lib/python3.11/dist-packages/pandas/io/parsers/readers.py\u001b[0m in \u001b[0;36mread_csv\u001b[0;34m(filepath_or_buffer, sep, delimiter, header, names, index_col, usecols, dtype, engine, converters, true_values, false_values, skipinitialspace, skiprows, skipfooter, nrows, na_values, keep_default_na, na_filter, verbose, skip_blank_lines, parse_dates, infer_datetime_format, keep_date_col, date_parser, date_format, dayfirst, cache_dates, iterator, chunksize, compression, thousands, decimal, lineterminator, quotechar, quoting, doublequote, escapechar, comment, encoding, encoding_errors, dialect, on_bad_lines, delim_whitespace, low_memory, memory_map, float_precision, storage_options, dtype_backend)\u001b[0m\n\u001b[1;32m   1024\u001b[0m     \u001b[0mkwds\u001b[0m\u001b[0;34m.\u001b[0m\u001b[0mupdate\u001b[0m\u001b[0;34m(\u001b[0m\u001b[0mkwds_defaults\u001b[0m\u001b[0;34m)\u001b[0m\u001b[0;34m\u001b[0m\u001b[0;34m\u001b[0m\u001b[0m\n\u001b[1;32m   1025\u001b[0m \u001b[0;34m\u001b[0m\u001b[0m\n\u001b[0;32m-> 1026\u001b[0;31m     \u001b[0;32mreturn\u001b[0m \u001b[0m_read\u001b[0m\u001b[0;34m(\u001b[0m\u001b[0mfilepath_or_buffer\u001b[0m\u001b[0;34m,\u001b[0m \u001b[0mkwds\u001b[0m\u001b[0;34m)\u001b[0m\u001b[0;34m\u001b[0m\u001b[0;34m\u001b[0m\u001b[0m\n\u001b[0m\u001b[1;32m   1027\u001b[0m \u001b[0;34m\u001b[0m\u001b[0m\n\u001b[1;32m   1028\u001b[0m \u001b[0;34m\u001b[0m\u001b[0m\n",
            "\u001b[0;32m/usr/local/lib/python3.11/dist-packages/pandas/io/parsers/readers.py\u001b[0m in \u001b[0;36m_read\u001b[0;34m(filepath_or_buffer, kwds)\u001b[0m\n\u001b[1;32m    618\u001b[0m \u001b[0;34m\u001b[0m\u001b[0m\n\u001b[1;32m    619\u001b[0m     \u001b[0;31m# Create the parser.\u001b[0m\u001b[0;34m\u001b[0m\u001b[0;34m\u001b[0m\u001b[0m\n\u001b[0;32m--> 620\u001b[0;31m     \u001b[0mparser\u001b[0m \u001b[0;34m=\u001b[0m \u001b[0mTextFileReader\u001b[0m\u001b[0;34m(\u001b[0m\u001b[0mfilepath_or_buffer\u001b[0m\u001b[0;34m,\u001b[0m \u001b[0;34m**\u001b[0m\u001b[0mkwds\u001b[0m\u001b[0;34m)\u001b[0m\u001b[0;34m\u001b[0m\u001b[0;34m\u001b[0m\u001b[0m\n\u001b[0m\u001b[1;32m    621\u001b[0m \u001b[0;34m\u001b[0m\u001b[0m\n\u001b[1;32m    622\u001b[0m     \u001b[0;32mif\u001b[0m \u001b[0mchunksize\u001b[0m \u001b[0;32mor\u001b[0m \u001b[0miterator\u001b[0m\u001b[0;34m:\u001b[0m\u001b[0;34m\u001b[0m\u001b[0;34m\u001b[0m\u001b[0m\n",
            "\u001b[0;32m/usr/local/lib/python3.11/dist-packages/pandas/io/parsers/readers.py\u001b[0m in \u001b[0;36m__init__\u001b[0;34m(self, f, engine, **kwds)\u001b[0m\n\u001b[1;32m   1618\u001b[0m \u001b[0;34m\u001b[0m\u001b[0m\n\u001b[1;32m   1619\u001b[0m         \u001b[0mself\u001b[0m\u001b[0;34m.\u001b[0m\u001b[0mhandles\u001b[0m\u001b[0;34m:\u001b[0m \u001b[0mIOHandles\u001b[0m \u001b[0;34m|\u001b[0m \u001b[0;32mNone\u001b[0m \u001b[0;34m=\u001b[0m \u001b[0;32mNone\u001b[0m\u001b[0;34m\u001b[0m\u001b[0;34m\u001b[0m\u001b[0m\n\u001b[0;32m-> 1620\u001b[0;31m         \u001b[0mself\u001b[0m\u001b[0;34m.\u001b[0m\u001b[0m_engine\u001b[0m \u001b[0;34m=\u001b[0m \u001b[0mself\u001b[0m\u001b[0;34m.\u001b[0m\u001b[0m_make_engine\u001b[0m\u001b[0;34m(\u001b[0m\u001b[0mf\u001b[0m\u001b[0;34m,\u001b[0m \u001b[0mself\u001b[0m\u001b[0;34m.\u001b[0m\u001b[0mengine\u001b[0m\u001b[0;34m)\u001b[0m\u001b[0;34m\u001b[0m\u001b[0;34m\u001b[0m\u001b[0m\n\u001b[0m\u001b[1;32m   1621\u001b[0m \u001b[0;34m\u001b[0m\u001b[0m\n\u001b[1;32m   1622\u001b[0m     \u001b[0;32mdef\u001b[0m \u001b[0mclose\u001b[0m\u001b[0;34m(\u001b[0m\u001b[0mself\u001b[0m\u001b[0;34m)\u001b[0m \u001b[0;34m->\u001b[0m \u001b[0;32mNone\u001b[0m\u001b[0;34m:\u001b[0m\u001b[0;34m\u001b[0m\u001b[0;34m\u001b[0m\u001b[0m\n",
            "\u001b[0;32m/usr/local/lib/python3.11/dist-packages/pandas/io/parsers/readers.py\u001b[0m in \u001b[0;36m_make_engine\u001b[0;34m(self, f, engine)\u001b[0m\n\u001b[1;32m   1878\u001b[0m                 \u001b[0;32mif\u001b[0m \u001b[0;34m\"b\"\u001b[0m \u001b[0;32mnot\u001b[0m \u001b[0;32min\u001b[0m \u001b[0mmode\u001b[0m\u001b[0;34m:\u001b[0m\u001b[0;34m\u001b[0m\u001b[0;34m\u001b[0m\u001b[0m\n\u001b[1;32m   1879\u001b[0m                     \u001b[0mmode\u001b[0m \u001b[0;34m+=\u001b[0m \u001b[0;34m\"b\"\u001b[0m\u001b[0;34m\u001b[0m\u001b[0;34m\u001b[0m\u001b[0m\n\u001b[0;32m-> 1880\u001b[0;31m             self.handles = get_handle(\n\u001b[0m\u001b[1;32m   1881\u001b[0m                 \u001b[0mf\u001b[0m\u001b[0;34m,\u001b[0m\u001b[0;34m\u001b[0m\u001b[0;34m\u001b[0m\u001b[0m\n\u001b[1;32m   1882\u001b[0m                 \u001b[0mmode\u001b[0m\u001b[0;34m,\u001b[0m\u001b[0;34m\u001b[0m\u001b[0;34m\u001b[0m\u001b[0m\n",
            "\u001b[0;32m/usr/local/lib/python3.11/dist-packages/pandas/io/common.py\u001b[0m in \u001b[0;36mget_handle\u001b[0;34m(path_or_buf, mode, encoding, compression, memory_map, is_text, errors, storage_options)\u001b[0m\n\u001b[1;32m    871\u001b[0m         \u001b[0;32mif\u001b[0m \u001b[0mioargs\u001b[0m\u001b[0;34m.\u001b[0m\u001b[0mencoding\u001b[0m \u001b[0;32mand\u001b[0m \u001b[0;34m\"b\"\u001b[0m \u001b[0;32mnot\u001b[0m \u001b[0;32min\u001b[0m \u001b[0mioargs\u001b[0m\u001b[0;34m.\u001b[0m\u001b[0mmode\u001b[0m\u001b[0;34m:\u001b[0m\u001b[0;34m\u001b[0m\u001b[0;34m\u001b[0m\u001b[0m\n\u001b[1;32m    872\u001b[0m             \u001b[0;31m# Encoding\u001b[0m\u001b[0;34m\u001b[0m\u001b[0;34m\u001b[0m\u001b[0m\n\u001b[0;32m--> 873\u001b[0;31m             handle = open(\n\u001b[0m\u001b[1;32m    874\u001b[0m                 \u001b[0mhandle\u001b[0m\u001b[0;34m,\u001b[0m\u001b[0;34m\u001b[0m\u001b[0;34m\u001b[0m\u001b[0m\n\u001b[1;32m    875\u001b[0m                 \u001b[0mioargs\u001b[0m\u001b[0;34m.\u001b[0m\u001b[0mmode\u001b[0m\u001b[0;34m,\u001b[0m\u001b[0;34m\u001b[0m\u001b[0;34m\u001b[0m\u001b[0m\n",
            "\u001b[0;31mFileNotFoundError\u001b[0m: [Errno 2] No such file or directory: '/content/drive/MyDrive/Colab Notebooks/[DATASET]/prestamo (1).csv'"
          ]
        }
      ],
      "source": [
        "#Cargar un archivo desde el computador(sistema)\n",
        "#https://raw.githubusercontent.com/adiacla/bigdata/master/bank.csv\n",
        "prestamo=pd.read_csv(\"/content/drive/MyDrive/Colab Notebooks/[DATASET]/prestamo (1).csv\",sep=\";\")"
      ]
    },
    {
      "cell_type": "code",
      "execution_count": null,
      "metadata": {
        "id": "ZypTQalOfHmX"
      },
      "outputs": [],
      "source": [
        "prestamo"
      ]
    },
    {
      "cell_type": "code",
      "execution_count": null,
      "metadata": {
        "id": "zhG7raJy_W0-"
      },
      "outputs": [],
      "source": [
        "type(prestamo)"
      ]
    },
    {
      "cell_type": "code",
      "execution_count": null,
      "metadata": {
        "id": "KRbLTcUBfBy4"
      },
      "outputs": [],
      "source": [
        "print(prestamo)"
      ]
    },
    {
      "cell_type": "markdown",
      "metadata": {
        "id": "e6ac3Pj-gERW"
      },
      "source": [
        "#Operaciones con DataFrame"
      ]
    },
    {
      "cell_type": "code",
      "execution_count": null,
      "metadata": {
        "id": "ojYwSO4MgD6P"
      },
      "outputs": [],
      "source": [
        "#Numero de Filas\n",
        "len(prestamo)"
      ]
    },
    {
      "cell_type": "code",
      "execution_count": null,
      "metadata": {
        "id": "rrKJt0afgaSO"
      },
      "outputs": [],
      "source": [
        "#Tamaño de el DataFrame\n",
        "prestamo.shape"
      ]
    },
    {
      "cell_type": "code",
      "execution_count": null,
      "metadata": {
        "id": "madoU4mdgoQ1"
      },
      "outputs": [],
      "source": [
        "#Total de datos\n",
        "prestamo.size"
      ]
    },
    {
      "cell_type": "code",
      "execution_count": null,
      "metadata": {
        "id": "Q9pLoXwsgul8"
      },
      "outputs": [],
      "source": [
        "#Sacar solo una muestra aleatoria\n",
        "#n significa el numero de datos que quiere que saque\n",
        "prestamo.sample(n=5)"
      ]
    },
    {
      "cell_type": "code",
      "execution_count": null,
      "metadata": {
        "id": "8KY1TTe9hRLz"
      },
      "outputs": [],
      "source": [
        "#Porcentaje que queire sacar del DataFrame\n",
        "aleatorio=prestamo.sample(frac=0.01)"
      ]
    },
    {
      "cell_type": "code",
      "execution_count": null,
      "metadata": {
        "id": "VvgV_e_Whn3r"
      },
      "outputs": [],
      "source": [
        "#Tamaño de el DataFrame de la muestra del porcentaje\n",
        "aleatorio.shape"
      ]
    },
    {
      "cell_type": "code",
      "execution_count": null,
      "metadata": {
        "id": "mOW4gBtCiKc0"
      },
      "outputs": [],
      "source": [
        "#Para extraer los primeros 5 registros\n",
        "df5=prestamo.head(5)"
      ]
    },
    {
      "cell_type": "code",
      "execution_count": null,
      "metadata": {
        "id": "odTkKBLoiTWT"
      },
      "outputs": [],
      "source": [
        "df5"
      ]
    },
    {
      "cell_type": "code",
      "execution_count": null,
      "metadata": {
        "id": "WwvMb64AigiS"
      },
      "outputs": [],
      "source": [
        "#Para extraer los ultimos 5 registros\n",
        "prestamo.tail(5)"
      ]
    },
    {
      "cell_type": "code",
      "execution_count": null,
      "metadata": {
        "id": "dwY6huEBiltC"
      },
      "outputs": [],
      "source": [
        "#Sacar los datos de una sola columna\n",
        "df_saldos=prestamo.balance"
      ]
    },
    {
      "cell_type": "code",
      "execution_count": null,
      "metadata": {
        "id": "_kaS_tqri83E"
      },
      "outputs": [],
      "source": [
        "df_saldos"
      ]
    },
    {
      "cell_type": "code",
      "execution_count": null,
      "metadata": {
        "id": "I20OuIhRjFcT"
      },
      "outputs": [],
      "source": [
        "#Del DataFrame, saber que tipo de variables tiene prestamo\n",
        "#int=enteros\n",
        "#object=caracter\n",
        "prestamo.info()"
      ]
    },
    {
      "cell_type": "code",
      "execution_count": null,
      "metadata": {
        "id": "jBGYbvbnkH9y"
      },
      "outputs": [],
      "source": [
        "#Promedio de las edades\n",
        "prestamo.age.mean()"
      ]
    },
    {
      "cell_type": "code",
      "execution_count": null,
      "metadata": {
        "id": "3Z1sWXA_kdAq"
      },
      "outputs": [],
      "source": [
        "#edad del cliente mas joven\n",
        "prestamo.age.min()"
      ]
    },
    {
      "cell_type": "code",
      "execution_count": null,
      "metadata": {
        "id": "NstnanzPkmUB"
      },
      "outputs": [],
      "source": [
        "#edad cliente mas viejo\n",
        "prestamo.age.max()"
      ]
    },
    {
      "cell_type": "code",
      "execution_count": null,
      "metadata": {
        "id": "bfHhkIv5kwVK"
      },
      "outputs": [],
      "source": [
        "#Cual es la varianza\n",
        "Varianza=prestamo.age.var()"
      ]
    },
    {
      "cell_type": "code",
      "execution_count": null,
      "metadata": {
        "id": "5fFdwaTDlMqB"
      },
      "outputs": [],
      "source": [
        "Varianza"
      ]
    },
    {
      "cell_type": "code",
      "execution_count": null,
      "metadata": {
        "id": "mGOvNzD8k0nx"
      },
      "outputs": [],
      "source": [
        "#Cual es la desviacion\n",
        "Desviacion= prestamo.age.std()"
      ]
    },
    {
      "cell_type": "code",
      "execution_count": null,
      "metadata": {
        "id": "NVLcC81slJzB"
      },
      "outputs": [],
      "source": [
        "Desviacion"
      ]
    },
    {
      "cell_type": "code",
      "execution_count": null,
      "metadata": {
        "id": "urcOp2jilPp7"
      },
      "outputs": [],
      "source": [
        "#Sacar la mediana de la edad de lso clientes en prestamos\n",
        "prestamo.age.median()"
      ]
    },
    {
      "cell_type": "code",
      "execution_count": null,
      "metadata": {
        "id": "Y8_46B4hlknZ"
      },
      "outputs": [],
      "source": [
        "#Sacar todo lo anterior en un solo comando\n",
        "prestamo.describe()"
      ]
    },
    {
      "cell_type": "markdown",
      "metadata": {
        "id": "opBtDRGSnuMb"
      },
      "source": [
        "Quiz"
      ]
    },
    {
      "cell_type": "code",
      "execution_count": null,
      "metadata": {
        "id": "2c-wjKCJmaPH"
      },
      "outputs": [],
      "source": [
        "#Data frame llamado subcolumnas que em guarde la columnas de edad, saldo y deafult si esta o no\n",
        "prestamo[{\"age\", \"balance\", \"default\"}]"
      ]
    },
    {
      "cell_type": "code",
      "execution_count": null,
      "metadata": {
        "id": "Mn8kCg0xn39D"
      },
      "outputs": [],
      "source": [
        "#el de arriba estaba bien pero no era un DataFrame\n",
        "subcolumnas=prestamo[[\"age\", \"balance\", \"default\"]]"
      ]
    },
    {
      "cell_type": "code",
      "execution_count": null,
      "metadata": {
        "id": "nKtTYTZbVnGi"
      },
      "outputs": [],
      "source": [
        "type(subcolumnas)"
      ]
    },
    {
      "cell_type": "code",
      "execution_count": null,
      "metadata": {
        "id": "pbH1ZDQBpm4T"
      },
      "outputs": [],
      "source": [
        "subcolumnas"
      ]
    },
    {
      "cell_type": "code",
      "execution_count": null,
      "metadata": {
        "id": "jrPKfFtzp60b"
      },
      "outputs": [],
      "source": [
        "#Informacion de los datos que se sacan\n",
        "prestamo.columns"
      ]
    },
    {
      "cell_type": "code",
      "execution_count": null,
      "metadata": {
        "id": "hw1CzMLSqOJo"
      },
      "outputs": [],
      "source": [
        "#Mostrar en pantalla los clientes que son mayores de 70 años\n",
        "prestamo.query(\"age > 70\")"
      ]
    },
    {
      "cell_type": "code",
      "execution_count": null,
      "metadata": {
        "id": "2zk2l-IbqfLT"
      },
      "outputs": [],
      "source": [
        "#Personas mayores de 70 y que estan divorciadas\n",
        "divorciados_mayores_setenta=prestamo.query('marital==\"divorced\"and age>70')"
      ]
    },
    {
      "cell_type": "code",
      "execution_count": null,
      "metadata": {
        "id": "wNIfrRPYr4I_"
      },
      "outputs": [],
      "source": [
        "print(divorciados_mayores_setenta.age.count())"
      ]
    },
    {
      "cell_type": "code",
      "execution_count": null,
      "metadata": {
        "id": "VI89GpKusR32"
      },
      "outputs": [],
      "source": [
        "print(divorciados_mayores_setenta.age.mean())"
      ]
    },
    {
      "cell_type": "code",
      "execution_count": null,
      "metadata": {
        "id": "2sWVNHjFvtnm"
      },
      "outputs": [],
      "source": [
        "#Inluir objetos en la informacion de los datos\n",
        "prestamo.describe(include=object)"
      ]
    },
    {
      "cell_type": "markdown",
      "metadata": {
        "id": "I7qqG_Zwwjaq"
      },
      "source": [
        "#Graficas con los metodos propios de Pandas(no con la libreria Matplotlib)"
      ]
    },
    {
      "cell_type": "code",
      "execution_count": null,
      "metadata": {
        "id": "KepCOfohxGmK"
      },
      "outputs": [],
      "source": [
        "#Graficar por barras\n",
        "covid.plot.bar()"
      ]
    },
    {
      "cell_type": "code",
      "execution_count": null,
      "metadata": {
        "id": "U3uzREEGxV9K"
      },
      "outputs": [],
      "source": [
        "#Graficar, comparacion de edad y saldos\n",
        "subcolumnas.plot.scatter(\"age\",\"balance\")"
      ]
    },
    {
      "cell_type": "code",
      "execution_count": null,
      "metadata": {
        "id": "JLrRJ7yZyIBX"
      },
      "outputs": [],
      "source": [
        "#Lo mismo que la anterior en forma diferente\n",
        "subcolumnas.plot(kind=\"scatter\",x=\"age\", y=\"balance\")"
      ]
    },
    {
      "cell_type": "code",
      "execution_count": null,
      "metadata": {
        "id": "F9VXMIrxy2D2"
      },
      "outputs": [],
      "source": [
        "#Graficar los valores de prestamo\n",
        "#Se demora mucho\n",
        "prestamo.plot.bar()"
      ]
    },
    {
      "cell_type": "code",
      "execution_count": null,
      "metadata": {
        "id": "xaGM6DsLzXdF"
      },
      "outputs": [],
      "source": [
        "subprestamo=prestamo[[\"age\", \"job\", \"marital\", \"default\", \"balance\"]]"
      ]
    },
    {
      "cell_type": "code",
      "execution_count": null,
      "metadata": {
        "id": "vuJ6gQilznXt"
      },
      "outputs": [],
      "source": [
        "subprestamo.age.plot.bar()"
      ]
    },
    {
      "cell_type": "code",
      "execution_count": null,
      "metadata": {
        "id": "m9w9q8u53iz0"
      },
      "outputs": [],
      "source": [
        "covid.plot.pie(y=\"Tasa de Muertes\", figsize=(10,10))"
      ]
    },
    {
      "cell_type": "markdown",
      "metadata": {
        "id": "UL9gHrGe1Uwp"
      },
      "source": [
        "#Nuevo DataFrame"
      ]
    },
    {
      "cell_type": "code",
      "execution_count": null,
      "metadata": {
        "id": "kL6Fner81ciY"
      },
      "outputs": [],
      "source": [
        "#Cargar un archivo desde el computador(sistema)\n",
        "df_universidad=pd.read_csv(\"https://raw.githubusercontent.com/fivethirtyeight/data/master/college-majors/recent-grads.csv\")"
      ]
    },
    {
      "cell_type": "code",
      "execution_count": null,
      "metadata": {
        "id": "DN_UVa2d1-1v"
      },
      "outputs": [],
      "source": [
        "df_universidad"
      ]
    },
    {
      "cell_type": "code",
      "execution_count": null,
      "metadata": {
        "id": "DjMgCZwX2T0v"
      },
      "outputs": [],
      "source": [
        "df_universidad.plot.bar()"
      ]
    },
    {
      "cell_type": "code",
      "execution_count": null,
      "metadata": {
        "id": "eE9Wo0mc3TMF"
      },
      "outputs": [],
      "source": [
        "df_universidad.columns"
      ]
    },
    {
      "cell_type": "code",
      "execution_count": null,
      "metadata": {
        "id": "hmGj9vzH2shH"
      },
      "outputs": [],
      "source": [
        "df_universidad[[\"Men\",\"Women\"]].plot.bar()"
      ]
    },
    {
      "cell_type": "code",
      "execution_count": null,
      "metadata": {
        "id": "l4SrTv1u4k8X"
      },
      "outputs": [],
      "source": [
        "df_universidad.plot(x=\"Rank\", y=[\"Median\", \"P25th\", \"P75th\"])"
      ]
    },
    {
      "cell_type": "markdown",
      "metadata": {
        "id": "FLceSmbukLcF"
      },
      "source": [
        "#Repaso"
      ]
    },
    {
      "cell_type": "code",
      "execution_count": null,
      "metadata": {
        "id": "tdFpx5g7ba17"
      },
      "outputs": [],
      "source": [
        "#Features= Caracteristicas(Columnas)/df.nombre_de_la_caracteristica(solo si hay una sola palabra) o df[\"nombre_de_la_caracteristica\"]\n",
        "#Instancias= Filas\n",
        "#DataSet conjunto de datos\n",
        "#prestamo.columns #(Nombre de las columnas)\n",
        "#prestamo.age, prestamo.marital\n",
        "#prestamo[\"age\"]\n",
        "clientes=prestamo[[\"age\",\"marital\",\"default\"]]"
      ]
    },
    {
      "cell_type": "code",
      "execution_count": null,
      "metadata": {
        "id": "yO-GlWQMg369"
      },
      "outputs": [],
      "source": [
        "clientes"
      ]
    },
    {
      "cell_type": "code",
      "execution_count": null,
      "metadata": {
        "id": "1jUjISvuhLk3"
      },
      "outputs": [],
      "source": [
        "#Datos numericos, sacar la info\n",
        "prestamo.describe()"
      ]
    },
    {
      "cell_type": "code",
      "execution_count": null,
      "metadata": {
        "id": "J5AcJecZhfxX"
      },
      "outputs": [],
      "source": [
        "#Datos no numericos, sacar la info\n",
        "prestamo.describe(include=object)"
      ]
    },
    {
      "cell_type": "code",
      "execution_count": null,
      "metadata": {
        "id": "HCAlclynh46l"
      },
      "outputs": [],
      "source": [
        "#Cuales son los tipos de trabajo\n",
        "prestamo.job.unique()"
      ]
    },
    {
      "cell_type": "code",
      "execution_count": null,
      "metadata": {
        "id": "6MlQVB0iic1c"
      },
      "outputs": [],
      "source": [
        "#Cuales son los tipos de estado civil\n",
        "prestamo.marital.unique()"
      ]
    },
    {
      "cell_type": "code",
      "execution_count": null,
      "metadata": {
        "id": "YEee1hn9jSHT"
      },
      "outputs": [],
      "source": [
        "#loc(referencias las columnas o los features y los numeros) e Iloc(solamente numeros)\n",
        "prestamo.iloc[:,0] #toma la primera columna\n",
        "prestamo.iloc[0] #para mostrar la primera fila[n]\n",
        "prestamo.iloc[-1] #para mostrar el ultimo\n",
        "prestamo.iloc[:,4] #mostrar columna 4\n",
        "prestamo.iloc[:,-1] #mostrar la ultima columna\n",
        "prestamo.iloc[:,[1,3,5]] #mostrar la columna 1,3,5\n",
        "prestamo.iloc[1000:2001,[4,5]]#filas 1000 al 2000 con las columnas 4 y 5"
      ]
    },
    {
      "cell_type": "code",
      "execution_count": null,
      "metadata": {
        "id": "xSvNypI0nHb_"
      },
      "outputs": [],
      "source": [
        "prestamo.loc[:,\"balance\"]\n",
        "prestamo.loc[1000:2000,[\"job\",\"balance\",\"age\"]]\n",
        "clientes_estado_civil=prestamo.loc[10:21,[\"job\",\"marital\",\"default\"]]"
      ]
    },
    {
      "cell_type": "code",
      "execution_count": null,
      "metadata": {
        "id": "YPD0j78fn_l9"
      },
      "outputs": [],
      "source": [
        "#cuales son casados?\n",
        "clientes_estado_civil.query('marital==\"married\"').count()"
      ]
    },
    {
      "cell_type": "code",
      "execution_count": null,
      "metadata": {
        "id": "Acm07vr_oZGs"
      },
      "outputs": [],
      "source": [
        "#sacar los casados on loc\n",
        "condicion=clientes_estado_civil.loc[:,\"marital\"]==\"married\""
      ]
    },
    {
      "cell_type": "code",
      "execution_count": null,
      "metadata": {
        "id": "lQla-3RCo-vK"
      },
      "outputs": [],
      "source": [
        "clientes_estado_civil.loc[condicion].count()"
      ]
    },
    {
      "cell_type": "code",
      "execution_count": null,
      "metadata": {
        "id": "-0_tRJzFpk34"
      },
      "outputs": [],
      "source": [
        "#copia de datos\n",
        "copi_prestamo=prestamo.copy()"
      ]
    },
    {
      "cell_type": "code",
      "execution_count": null,
      "metadata": {
        "id": "biJ6fj8cqRxn"
      },
      "outputs": [],
      "source": [
        "copi_prestamo"
      ]
    },
    {
      "cell_type": "code",
      "execution_count": null,
      "metadata": {
        "id": "IYvNHTfpqeAP"
      },
      "outputs": [],
      "source": [
        "copi_prestamo.drop(['previous','poutcome','y'],axis=1)"
      ]
    },
    {
      "cell_type": "code",
      "execution_count": null,
      "metadata": {
        "id": "B6m6L3n5rrWU"
      },
      "outputs": [],
      "source": [
        "copia_prestamo_new=copi_prestamo.drop(['previous','poutcome','y'],axis=1)"
      ]
    },
    {
      "cell_type": "code",
      "execution_count": null,
      "metadata": {
        "id": "EXe5-K3QrzuD"
      },
      "outputs": [],
      "source": [
        "#borrar en la misma variable, pero no se puede recuperar despues\n",
        "copi_prestamo.drop(['previous','poutcome','y'],axis=1,inplace=True)"
      ]
    },
    {
      "cell_type": "code",
      "execution_count": null,
      "metadata": {
        "id": "cwNXD837sO2B"
      },
      "outputs": [],
      "source": [
        "copi_prestamo.columns"
      ]
    },
    {
      "cell_type": "code",
      "execution_count": null,
      "metadata": {
        "id": "avljKsbqsZJi"
      },
      "outputs": [],
      "source": [
        "copi_prestamo.to_excel(\"copy_prestamo.xls\")"
      ]
    },
    {
      "cell_type": "markdown",
      "metadata": {
        "id": "lXUvm5lv5qew"
      },
      "source": [
        "#Graficas por Matplotlib"
      ]
    },
    {
      "cell_type": "code",
      "execution_count": null,
      "metadata": {
        "id": "9otBCT1c4__X"
      },
      "outputs": [],
      "source": [
        "#Siempre debe ir en la cabecera\n",
        "import matplotlib.pyplot as plt"
      ]
    },
    {
      "cell_type": "code",
      "execution_count": null,
      "metadata": {
        "id": "6u3Ie-gU59a8"
      },
      "outputs": [],
      "source": [
        "plt.plot(prestamo.day,prestamo.balance)"
      ]
    },
    {
      "cell_type": "code",
      "execution_count": null,
      "metadata": {
        "id": "w6txv_Zg7rk8"
      },
      "outputs": [],
      "source": [
        "saldo_agrupado=prestamo.groupby(\"day\")[\"balance\"].mean()"
      ]
    },
    {
      "cell_type": "code",
      "execution_count": null,
      "metadata": {
        "id": "d-VrT2A78BXT"
      },
      "outputs": [],
      "source": [
        "saldo_agrupado"
      ]
    },
    {
      "cell_type": "code",
      "execution_count": null,
      "metadata": {
        "id": "bVYzATl68F_z"
      },
      "outputs": [],
      "source": [
        "type(saldo_agrupado)"
      ]
    },
    {
      "cell_type": "code",
      "execution_count": null,
      "metadata": {
        "id": "bsTqCe_L8XpM"
      },
      "outputs": [],
      "source": [
        "df_saldos=pd.DataFrame(saldo_agrupado)"
      ]
    },
    {
      "cell_type": "code",
      "execution_count": null,
      "metadata": {
        "id": "SXE5jBkt8m_k"
      },
      "outputs": [],
      "source": [
        "df_saldos"
      ]
    },
    {
      "cell_type": "code",
      "execution_count": null,
      "metadata": {
        "id": "7706hAeJ8wQM"
      },
      "outputs": [],
      "source": [
        "type(df_saldos)"
      ]
    },
    {
      "cell_type": "code",
      "execution_count": null,
      "metadata": {
        "id": "mZsggZXu81-M"
      },
      "outputs": [],
      "source": [
        "df_saldos[\"day\"]=df_saldos.index"
      ]
    },
    {
      "cell_type": "code",
      "execution_count": null,
      "metadata": {
        "id": "FneNFPRI9PxE"
      },
      "outputs": [],
      "source": [
        "plt.plot(df_saldos)"
      ]
    }
  ],
  "metadata": {
    "colab": {
      "provenance": [],
      "include_colab_link": true
    },
    "kernelspec": {
      "display_name": "Python 3",
      "name": "python3"
    },
    "language_info": {
      "name": "python"
    }
  },
  "nbformat": 4,
  "nbformat_minor": 0
}